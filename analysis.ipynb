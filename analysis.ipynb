{
 "cells": [
  {
   "cell_type": "code",
   "execution_count": 149,
   "id": "c6584107-b9c6-493b-998e-ef10b0936ae3",
   "metadata": {},
   "outputs": [],
   "source": [
    "import httpx\n",
    "from bs4 import BeautifulSoup\n",
    "\n",
    "r = httpx.get(\"https://www.apple.com/watch/compare/\")\n",
    "html_doc = r.text\n",
    "soup = BeautifulSoup(html_doc, \"html.parser\")\n",
    "devices_src = soup.find_all(\"div\", class_=\"device-content with-list-bullet\")"
   ]
  },
  {
   "cell_type": "code",
   "execution_count": 173,
   "id": "ba08a80b-f9c6-4bb8-955c-7463aee38091",
   "metadata": {},
   "outputs": [],
   "source": [
    "from typing import List\n",
    "\n",
    "from attrs import define\n",
    "from pyrsistent import PVector, pvector\n",
    "\n",
    "\n",
    "@define(frozen=True)\n",
    "class Watch:\n",
    "    name: str\n",
    "    features: PVector\n",
    "\n",
    "    def __lt__(self, other: \"Watch\") -> bool:\n",
    "        if len(self.features) < len(other.features):\n",
    "            return True\n",
    "        if (len(self.features) == len(other.features)) and (self.name < other.name):\n",
    "            return True\n",
    "        return False"
   ]
  },
  {
   "cell_type": "code",
   "execution_count": 172,
   "id": "ce027ada-754f-4d8b-ad2c-b693d8a8b9af",
   "metadata": {},
   "outputs": [
    {
     "ename": "TypeError",
     "evalue": "PVector() takes no arguments",
     "output_type": "error",
     "traceback": [
      "\u001b[0;31m---------------------------------------------------------------------------\u001b[0m",
      "\u001b[0;31mTypeError\u001b[0m                                 Traceback (most recent call last)",
      "Cell \u001b[0;32mIn [172], line 7\u001b[0m\n\u001b[1;32m      4\u001b[0m watches \u001b[38;5;241m=\u001b[39m []\n\u001b[1;32m      6\u001b[0m \u001b[38;5;28;01mfor\u001b[39;00m device \u001b[38;5;129;01min\u001b[39;00m devices_src:\n\u001b[0;32m----> 7\u001b[0m     watches\u001b[38;5;241m.\u001b[39mappend(Watch(name\u001b[38;5;241m=\u001b[39mdevice\u001b[38;5;241m.\u001b[39mh3\u001b[38;5;241m.\u001b[39mtext, features\u001b[38;5;241m=\u001b[39mPVector(li\u001b[38;5;241m.\u001b[39mtext \u001b[38;5;28;01mfor\u001b[39;00m li \u001b[38;5;129;01min\u001b[39;00m device\u001b[38;5;241m.\u001b[39mfind_all(\u001b[38;5;124m\"\u001b[39m\u001b[38;5;124mli\u001b[39m\u001b[38;5;124m\"\u001b[39m))))\n\u001b[1;32m      9\u001b[0m watches\u001b[38;5;241m.\u001b[39msort()\n\u001b[1;32m     10\u001b[0m pprint([(_\u001b[38;5;241m.\u001b[39mname, \u001b[38;5;28mlen\u001b[39m(_\u001b[38;5;241m.\u001b[39mfeatures)) \u001b[38;5;28;01mfor\u001b[39;00m _ \u001b[38;5;129;01min\u001b[39;00m watches])\n",
      "\u001b[0;31mTypeError\u001b[0m: PVector() takes no arguments"
     ]
    }
   ],
   "source": [
    "from collections import defaultdict\n",
    "from pprint import pprint\n",
    "\n",
    "watches = []\n",
    "\n",
    "for device in devices_src:\n",
    "    watches.append(\n",
    "        Watch(\n",
    "            name=device.h3.text,\n",
    "            features=PVector(li.text for li in device.find_all(\"li\")),\n",
    "        )\n",
    "    )\n",
    "\n",
    "watches.sort()\n",
    "pprint([(_.name, len(_.features)) for _ in watches])"
   ]
  },
  {
   "cell_type": "code",
   "execution_count": 171,
   "id": "871aa66d-cd41-4cb6-84ad-f06e2eee4727",
   "metadata": {},
   "outputs": [
    {
     "data": {
      "text/plain": [
       "list"
      ]
     },
     "execution_count": 171,
     "metadata": {},
     "output_type": "execute_result"
    }
   ],
   "source": [
    "w = watches[0]\n",
    "type(w.features)"
   ]
  },
  {
   "cell_type": "code",
   "execution_count": 168,
   "id": "91d09a5c-be5f-4bde-88d2-52eb47b90291",
   "metadata": {},
   "outputs": [
    {
     "name": "stdout",
     "output_type": "stream",
     "text": [
      "Apple Watch Series  1\n"
     ]
    },
    {
     "ename": "TypeError",
     "evalue": "unhashable type: 'list'",
     "output_type": "error",
     "traceback": [
      "\u001b[0;31m---------------------------------------------------------------------------\u001b[0m",
      "\u001b[0;31mTypeError\u001b[0m                                 Traceback (most recent call last)",
      "Cell \u001b[0;32mIn [168], line 9\u001b[0m\n\u001b[1;32m      7\u001b[0m \u001b[38;5;28;01mfor\u001b[39;00m watch \u001b[38;5;129;01min\u001b[39;00m watches:\n\u001b[1;32m      8\u001b[0m     \u001b[38;5;28mprint\u001b[39m(watch\u001b[38;5;241m.\u001b[39mname)\n\u001b[0;32m----> 9\u001b[0m     embeddings[watch] \u001b[38;5;241m=\u001b[39m model\u001b[38;5;241m.\u001b[39mencode(watch\u001b[38;5;241m.\u001b[39mfeatures, convert_to_tensor\u001b[38;5;241m=\u001b[39m\u001b[38;5;28;01mTrue\u001b[39;00m)\n",
      "File \u001b[0;32m<attrs generated hash __main__.Watch>:2\u001b[0m, in \u001b[0;36m__hash__\u001b[0;34m(self)\u001b[0m\n\u001b[1;32m      1\u001b[0m \u001b[38;5;28;01mdef\u001b[39;00m \u001b[38;5;21m__hash__\u001b[39m(\u001b[38;5;28mself\u001b[39m):\n\u001b[0;32m----> 2\u001b[0m         \u001b[38;5;28;01mreturn\u001b[39;00m \u001b[38;5;28;43mhash\u001b[39;49m\u001b[43m(\u001b[49m\u001b[43m(\u001b[49m\n\u001b[1;32m      3\u001b[0m \u001b[43m                \u001b[49m\u001b[38;5;241;43m6196456102384872688\u001b[39;49m\u001b[43m,\u001b[49m\n\u001b[1;32m      4\u001b[0m \u001b[43m                \u001b[49m\u001b[38;5;28;43mself\u001b[39;49m\u001b[38;5;241;43m.\u001b[39;49m\u001b[43mname\u001b[49m\u001b[43m,\u001b[49m\n\u001b[1;32m      5\u001b[0m \u001b[43m                \u001b[49m\u001b[38;5;28;43mself\u001b[39;49m\u001b[38;5;241;43m.\u001b[39;49m\u001b[43mfeatures\u001b[49m\u001b[43m,\u001b[49m\n\u001b[1;32m      6\u001b[0m \u001b[43m            \u001b[49m\u001b[43m)\u001b[49m\u001b[43m)\u001b[49m\n",
      "\u001b[0;31mTypeError\u001b[0m: unhashable type: 'list'"
     ]
    }
   ],
   "source": [
    "from sentence_transformers import SentenceTransformer, util\n",
    "\n",
    "model = SentenceTransformer(\"all-MiniLM-L6-v2\")\n",
    "\n",
    "embeddings = defaultdict()\n",
    "\n",
    "for watch in watches:\n",
    "    print(watch.name)\n",
    "    embeddings[watch] = model.encode(watch.features, convert_to_tensor=True)"
   ]
  },
  {
   "cell_type": "code",
   "execution_count": 36,
   "id": "dd1baabe-5524-4906-842d-9dd4ef86499f",
   "metadata": {},
   "outputs": [
    {
     "name": "stdout",
     "output_type": "stream",
     "text": [
      "Apple Watch Ultra\n",
      "Apple Watch Series 8\n",
      "Apple Watch SE\n",
      "Apple Watch Series 7\n",
      "Apple Watch Series 6\n",
      "Apple Watch SE (1st generation)\n",
      "Apple Watch Series 5\n",
      "Apple Watch Series 4\n",
      "Apple Watch Series 3\n",
      "Apple Watch Series 2\n",
      "Apple Watch Series  1\n"
     ]
    }
   ],
   "source": []
  },
  {
   "cell_type": "code",
   "execution_count": 40,
   "id": "698ba34e-bab2-4f68-a019-4861edf76f2b",
   "metadata": {},
   "outputs": [
    {
     "name": "stdout",
     "output_type": "stream",
     "text": [
      "tensor([[ 0.0666,  0.0771,  0.0277,  ..., -0.0602, -0.0356,  0.0013],\n",
      "        [-0.0110,  0.0457,  0.0328,  ..., -0.0742, -0.0464,  0.1485],\n",
      "        [ 0.0238,  0.0566,  0.0154,  ..., -0.0261, -0.0221, -0.0075],\n",
      "        ...,\n",
      "        [-0.0247, -0.0805,  0.0373,  ..., -0.0267, -0.1534,  0.0227],\n",
      "        [-0.0330,  0.0042, -0.0531,  ..., -0.0202,  0.0959,  0.0395],\n",
      "        [ 0.0483, -0.0286, -0.0597,  ..., -0.0134, -0.0157, -0.0246]])\n"
     ]
    }
   ],
   "source": [
    "pprint(embeddings[\"Apple\\xa0Watch SE\"])"
   ]
  },
  {
   "cell_type": "code",
   "execution_count": 55,
   "id": "361e81a8-382f-49a9-bbfe-a0b4347a8546",
   "metadata": {},
   "outputs": [],
   "source": [
    "def dd():\n",
    "    return defaultdict(dd)\n",
    "\n",
    "\n",
    "scores = defaultdict(dd)\n",
    "key_list = list(features.keys())\n",
    "\n",
    "for i in range(len(key_list)):\n",
    "    key_i = key_list[i]\n",
    "    for j in range(i + 1, len(key_list)):\n",
    "        key_j = key_list[j]\n",
    "        score = util.cos_sim(embeddings[key_i], embeddings[key_j])\n",
    "        scores[key_i][key_j] = score"
   ]
  },
  {
   "cell_type": "code",
   "execution_count": 67,
   "id": "e5817983-9812-4429-b0ed-5728b7591644",
   "metadata": {},
   "outputs": [
    {
     "name": "stdout",
     "output_type": "stream",
     "text": [
      "torch.Size([16, 14]) 16 14\n"
     ]
    }
   ],
   "source": [
    "first = key_list[0]\n",
    "second = key_list[2]\n",
    "print(\n",
    "    (matrix := scores[first][second]).size(),\n",
    "    len(features[first]),\n",
    "    len(features[second]),\n",
    ")"
   ]
  },
  {
   "cell_type": "code",
   "execution_count": 153,
   "id": "b0ca5713-0f51-4930-9270-f91209cfab97",
   "metadata": {
    "tags": []
   },
   "outputs": [
    {
     "name": "stdout",
     "output_type": "stream",
     "text": [
      "155\n"
     ]
    }
   ],
   "source": [
    "@define(frozen=True)\n",
    "class FeatureNode:\n",
    "    watch: Watch\n",
    "    index: int\n",
    "\n",
    "    def name(self):\n",
    "        return watch.features[index]\n",
    "\n",
    "\n",
    "feature_nodes = [\n",
    "    FeatureNode(watch, index)\n",
    "    for watch in devices\n",
    "    for index in range(len(watch.features))\n",
    "]\n",
    "print(len(feature_nodes))"
   ]
  },
  {
   "cell_type": "code",
   "execution_count": 84,
   "id": "834c0203-d1cb-409d-8e28-4de17df38ee4",
   "metadata": {},
   "outputs": [
    {
     "name": "stdout",
     "output_type": "stream",
     "text": [
      "0 0 0.8283575773239136 49mm case | 40mm or 44mm case\n",
      "1 1 0.8876988887786865 Always-On Retina LTPO OLED display, up to 2000 nits | Retina LTPO OLED display, up to 1000 nits\n",
      "2 2 0.4469667673110962 Flat sapphire crystal display | Ion-X glass display\n",
      "3 3 0.9448041319847107 GPS + Cellular model | GPS and GPS + Cellular models\n",
      "4 4 0.905308723449707 S8 SiP with 64-bit dual-core processor; W3 wireless chip; U1 chip (Ultra Wideband)25 | S8 SiP with 64-bit dual-core processor; W3 wireless chip\n",
      "5 5 0.921658456325531 Digital Crown with haptic feedback; Action button | Digital Crown with haptic feedback\n",
      "6 6 0.597714900970459 Temperature sensor;1 blood oxygen sensor;12 electrical heart sensor and third-generation optical heart sensor | Second-generation optical heart sensor\n",
      "7 7 0.8941822052001953 High and low heart rate notifications, irregular rhythm notification, and ECG app13 | High and low heart rate notifications and irregular rhythm notification14\n",
      "9 9 0.930390477180481 Water resistant 100 meters10 | Water resistant 50 meters9\n",
      "10 9 0.2592260241508484 Dust resistant (IP6X)6 | Water resistant 50 meters9\n",
      "13 12 0.5561078786849976 Dual speakers and three-mic array with beamforming | Built-in speaker and mic\n",
      "15 0 0.2576465606689453 Fast charge time22 | 40mm or 44mm case\n"
     ]
    }
   ],
   "source": [
    "import torch\n",
    "\n",
    "argmax_vector = torch.argmax(matrix, dim=1)\n",
    "for i in range(len(argmax_vector)):\n",
    "    j = argmax_vector[i].item()\n",
    "    if (s := matrix[i][j].item()) < 0.999:\n",
    "        print(i, j, s, features[first][i], \"|\", features[second][j])"
   ]
  },
  {
   "cell_type": "code",
   "execution_count": 97,
   "id": "28bfdc75-e609-4fe0-8c86-d0482bbab8f0",
   "metadata": {},
   "outputs": [
    {
     "name": "stdout",
     "output_type": "stream",
     "text": [
      "0 0 0.8283575773239136 49mm case | 40mm or 44mm case\n",
      "1 1 0.8876988887786865 Always-On Retina LTPO OLED display, up to 2000 nits | Retina LTPO OLED display, up to 1000 nits\n",
      "2 2 0.4469667673110962 Flat sapphire crystal display | Ion-X glass display\n",
      "3 3 0.9448041319847107 GPS + Cellular model | GPS and GPS + Cellular models\n",
      "4 4 0.905308723449707 S8 SiP with 64-bit dual-core processor; W3 wireless chip; U1 chip (Ultra Wideband)25 | S8 SiP with 64-bit dual-core processor; W3 wireless chip\n",
      "5 5 0.921658456325531 Digital Crown with haptic feedback; Action button | Digital Crown with haptic feedback\n",
      "6 6 0.597714900970459 Temperature sensor;1 blood oxygen sensor;12 electrical heart sensor and third-generation optical heart sensor | Second-generation optical heart sensor\n",
      "7 7 0.8941822052001953 High and low heart rate notifications, irregular rhythm notification, and ECG app13 | High and low heart rate notifications and irregular rhythm notification14\n",
      "9 9 0.930390477180481 Water resistant 100 meters10 | Water resistant 50 meters9\n",
      "13 12 0.5561078786849976 Dual speakers and three-mic array with beamforming | Built-in speaker and mic\n"
     ]
    }
   ],
   "source": [
    "argmax_vector = torch.argmax(matrix, dim=0)\n",
    "for j in range(len(argmax_vector)):\n",
    "    i = argmax_vector[j].item()\n",
    "    if (s := matrix[i][j].item()) < 0.999:\n",
    "        print(i, j, s, features[first][i], \"|\", features[second][j])"
   ]
  },
  {
   "cell_type": "code",
   "execution_count": 82,
   "id": "909edad7-ddb2-4402-820c-65185b8a89a7",
   "metadata": {},
   "outputs": [
    {
     "name": "stdout",
     "output_type": "stream",
     "text": [
      "| 32GB capacity | 32GB capacity |\n",
      "True\n"
     ]
    }
   ],
   "source": [
    "print(\"|\", (one := features[first][14]), \"|\", (two := features[second][13]), \"|\")\n",
    "print(one == two)"
   ]
  },
  {
   "cell_type": "code",
   "execution_count": 91,
   "id": "53412997-f3e1-498c-bb04-a2931ae751eb",
   "metadata": {},
   "outputs": [
    {
     "name": "stdout",
     "output_type": "stream",
     "text": [
      "11\n",
      "[('Apple\\xa0Watch\\xa0Ultra', 'Apple\\xa0Watch Series\\xa08'),\n",
      " ('Apple\\xa0Watch\\xa0Ultra', 'Apple\\xa0Watch SE'),\n",
      " ('Apple\\xa0Watch\\xa0Ultra', 'Apple\\xa0Watch Series\\xa07'),\n",
      " ('Apple\\xa0Watch\\xa0Ultra', 'Apple\\xa0Watch Series\\xa06'),\n",
      " ('Apple\\xa0Watch\\xa0Ultra', 'Apple\\xa0Watch\\xa0SE (1st\\xa0generation)'),\n",
      " ('Apple\\xa0Watch\\xa0Ultra', 'Apple\\xa0Watch Series\\xa05'),\n",
      " ('Apple\\xa0Watch\\xa0Ultra', 'Apple\\xa0Watch Series\\xa04'),\n",
      " ('Apple\\xa0Watch\\xa0Ultra', 'Apple\\xa0Watch Series\\xa03'),\n",
      " ('Apple\\xa0Watch\\xa0Ultra', 'Apple\\xa0Watch Series\\xa02'),\n",
      " ('Apple\\xa0Watch\\xa0Ultra', 'Apple\\xa0Watch Series\\xa0 1'),\n",
      " ('Apple\\xa0Watch Series\\xa08', 'Apple\\xa0Watch SE'),\n",
      " ('Apple\\xa0Watch Series\\xa08', 'Apple\\xa0Watch Series\\xa07'),\n",
      " ('Apple\\xa0Watch Series\\xa08', 'Apple\\xa0Watch Series\\xa06'),\n",
      " ('Apple\\xa0Watch Series\\xa08', 'Apple\\xa0Watch\\xa0SE (1st\\xa0generation)'),\n",
      " ('Apple\\xa0Watch Series\\xa08', 'Apple\\xa0Watch Series\\xa05'),\n",
      " ('Apple\\xa0Watch Series\\xa08', 'Apple\\xa0Watch Series\\xa04'),\n",
      " ('Apple\\xa0Watch Series\\xa08', 'Apple\\xa0Watch Series\\xa03'),\n",
      " ('Apple\\xa0Watch Series\\xa08', 'Apple\\xa0Watch Series\\xa02'),\n",
      " ('Apple\\xa0Watch Series\\xa08', 'Apple\\xa0Watch Series\\xa0 1'),\n",
      " ('Apple\\xa0Watch SE', 'Apple\\xa0Watch Series\\xa07'),\n",
      " ('Apple\\xa0Watch SE', 'Apple\\xa0Watch Series\\xa06'),\n",
      " ('Apple\\xa0Watch SE', 'Apple\\xa0Watch\\xa0SE (1st\\xa0generation)'),\n",
      " ('Apple\\xa0Watch SE', 'Apple\\xa0Watch Series\\xa05'),\n",
      " ('Apple\\xa0Watch SE', 'Apple\\xa0Watch Series\\xa04'),\n",
      " ('Apple\\xa0Watch SE', 'Apple\\xa0Watch Series\\xa03'),\n",
      " ('Apple\\xa0Watch SE', 'Apple\\xa0Watch Series\\xa02'),\n",
      " ('Apple\\xa0Watch SE', 'Apple\\xa0Watch Series\\xa0 1'),\n",
      " ('Apple\\xa0Watch Series\\xa07', 'Apple\\xa0Watch Series\\xa06'),\n",
      " ('Apple\\xa0Watch Series\\xa07', 'Apple\\xa0Watch\\xa0SE (1st\\xa0generation)'),\n",
      " ('Apple\\xa0Watch Series\\xa07', 'Apple\\xa0Watch Series\\xa05'),\n",
      " ('Apple\\xa0Watch Series\\xa07', 'Apple\\xa0Watch Series\\xa04'),\n",
      " ('Apple\\xa0Watch Series\\xa07', 'Apple\\xa0Watch Series\\xa03'),\n",
      " ('Apple\\xa0Watch Series\\xa07', 'Apple\\xa0Watch Series\\xa02'),\n",
      " ('Apple\\xa0Watch Series\\xa07', 'Apple\\xa0Watch Series\\xa0 1'),\n",
      " ('Apple\\xa0Watch Series\\xa06', 'Apple\\xa0Watch\\xa0SE (1st\\xa0generation)'),\n",
      " ('Apple\\xa0Watch Series\\xa06', 'Apple\\xa0Watch Series\\xa05'),\n",
      " ('Apple\\xa0Watch Series\\xa06', 'Apple\\xa0Watch Series\\xa04'),\n",
      " ('Apple\\xa0Watch Series\\xa06', 'Apple\\xa0Watch Series\\xa03'),\n",
      " ('Apple\\xa0Watch Series\\xa06', 'Apple\\xa0Watch Series\\xa02'),\n",
      " ('Apple\\xa0Watch Series\\xa06', 'Apple\\xa0Watch Series\\xa0 1'),\n",
      " ('Apple\\xa0Watch\\xa0SE (1st\\xa0generation)', 'Apple\\xa0Watch Series\\xa05'),\n",
      " ('Apple\\xa0Watch\\xa0SE (1st\\xa0generation)', 'Apple\\xa0Watch Series\\xa04'),\n",
      " ('Apple\\xa0Watch\\xa0SE (1st\\xa0generation)', 'Apple\\xa0Watch Series\\xa03'),\n",
      " ('Apple\\xa0Watch\\xa0SE (1st\\xa0generation)', 'Apple\\xa0Watch Series\\xa02'),\n",
      " ('Apple\\xa0Watch\\xa0SE (1st\\xa0generation)', 'Apple\\xa0Watch Series\\xa0 1'),\n",
      " ('Apple\\xa0Watch Series\\xa05', 'Apple\\xa0Watch Series\\xa04'),\n",
      " ('Apple\\xa0Watch Series\\xa05', 'Apple\\xa0Watch Series\\xa03'),\n",
      " ('Apple\\xa0Watch Series\\xa05', 'Apple\\xa0Watch Series\\xa02'),\n",
      " ('Apple\\xa0Watch Series\\xa05', 'Apple\\xa0Watch Series\\xa0 1'),\n",
      " ('Apple\\xa0Watch Series\\xa04', 'Apple\\xa0Watch Series\\xa03'),\n",
      " ('Apple\\xa0Watch Series\\xa04', 'Apple\\xa0Watch Series\\xa02'),\n",
      " ('Apple\\xa0Watch Series\\xa04', 'Apple\\xa0Watch Series\\xa0 1'),\n",
      " ('Apple\\xa0Watch Series\\xa03', 'Apple\\xa0Watch Series\\xa02'),\n",
      " ('Apple\\xa0Watch Series\\xa03', 'Apple\\xa0Watch Series\\xa0 1'),\n",
      " ('Apple\\xa0Watch Series\\xa02', 'Apple\\xa0Watch Series\\xa0 1')]\n",
      "55\n"
     ]
    }
   ],
   "source": [
    "import itertools\n",
    "\n",
    "print(len(key_list))\n",
    "pprint(combs := list(itertools.combinations(key_list, 2)))\n",
    "print(len(combs))"
   ]
  },
  {
   "cell_type": "code",
   "execution_count": 120,
   "id": "4e51540e-f067-439a-b372-4008871ab0b7",
   "metadata": {},
   "outputs": [
    {
     "name": "stdout",
     "output_type": "stream",
     "text": [
      "tensor([[  1.,  -7.,   3.],\n",
      "        [  8., -15.,   6.]])\n",
      "torch.Size([2, 3])\n"
     ]
    }
   ],
   "source": [
    "t = torch.Tensor([[1, -7, 3], [8, -15, 6]])\n",
    "print(t)\n",
    "print(t.size())"
   ]
  },
  {
   "cell_type": "code",
   "execution_count": 121,
   "id": "87ef81ec-d0a0-44f9-8e79-7c1b4ea59086",
   "metadata": {},
   "outputs": [
    {
     "data": {
      "text/plain": [
       "torch.return_types.max(\n",
       "values=tensor([ 8., -7.,  6.]),\n",
       "indices=tensor([1, 0, 1]))"
      ]
     },
     "execution_count": 121,
     "metadata": {},
     "output_type": "execute_result"
    }
   ],
   "source": [
    "torch.max(t, dim=0)"
   ]
  },
  {
   "cell_type": "code",
   "execution_count": 122,
   "id": "d46f5cec-5358-4999-95e8-0d40b1db65e7",
   "metadata": {},
   "outputs": [
    {
     "data": {
      "text/plain": [
       "torch.return_types.max(\n",
       "values=tensor([3., 8.]),\n",
       "indices=tensor([2, 0]))"
      ]
     },
     "execution_count": 122,
     "metadata": {},
     "output_type": "execute_result"
    }
   ],
   "source": [
    "torch.max(t, dim=1)"
   ]
  },
  {
   "cell_type": "code",
   "execution_count": 123,
   "id": "68e1cb39-e953-47bb-a929-dcd5329c6a5f",
   "metadata": {},
   "outputs": [
    {
     "data": {
      "text/plain": [
       "tensor([1, 0, 1])"
      ]
     },
     "execution_count": 123,
     "metadata": {},
     "output_type": "execute_result"
    }
   ],
   "source": [
    "torch.argmax(t, dim=0)"
   ]
  },
  {
   "cell_type": "code",
   "execution_count": 124,
   "id": "3fb0aa07-0cf2-4b21-b8ef-5516c7cd847d",
   "metadata": {},
   "outputs": [
    {
     "data": {
      "text/plain": [
       "tensor([2, 0])"
      ]
     },
     "execution_count": 124,
     "metadata": {},
     "output_type": "execute_result"
    }
   ],
   "source": [
    "torch.argmax(t, dim=1)"
   ]
  },
  {
   "cell_type": "code",
   "execution_count": 125,
   "id": "d2d6ad3e-f6c0-442b-a7fa-25193f37e34a",
   "metadata": {},
   "outputs": [
    {
     "data": {
      "text/plain": [
       "tensor(8.)"
      ]
     },
     "execution_count": 125,
     "metadata": {},
     "output_type": "execute_result"
    }
   ],
   "source": [
    "torch.max(t)"
   ]
  },
  {
   "cell_type": "code",
   "execution_count": 126,
   "id": "d8b0a626-2283-4928-a30e-9c39772674d7",
   "metadata": {},
   "outputs": [
    {
     "data": {
      "text/plain": [
       "tensor(3)"
      ]
     },
     "execution_count": 126,
     "metadata": {},
     "output_type": "execute_result"
    }
   ],
   "source": [
    "torch.argmax(t)"
   ]
  },
  {
   "cell_type": "code",
   "execution_count": 155,
   "id": "9f63d159-2f3e-48a6-8aa8-2037c47b68fb",
   "metadata": {},
   "outputs": [
    {
     "name": "stdout",
     "output_type": "stream",
     "text": [
      "[1, 2, 3]\n",
      "None\n",
      "[1, 2, 3]\n"
     ]
    }
   ],
   "source": [
    "a = [2, 1, 3]\n",
    "pprint(sorted(a))\n",
    "pprint(a.sort())\n",
    "pprint(a)"
   ]
  },
  {
   "cell_type": "code",
   "execution_count": null,
   "id": "7059a2e8-38b9-4175-aef2-d0a1c95ac4d9",
   "metadata": {},
   "outputs": [],
   "source": []
  }
 ],
 "metadata": {
  "jupytext": {
   "formats": "ipynb,auto:percent"
  },
  "kernelspec": {
   "display_name": "Python 3 (ipykernel)",
   "language": "python",
   "name": "python3"
  },
  "language_info": {
   "codemirror_mode": {
    "name": "ipython",
    "version": 3
   },
   "file_extension": ".py",
   "mimetype": "text/x-python",
   "name": "python",
   "nbconvert_exporter": "python",
   "pygments_lexer": "ipython3",
   "version": "3.10.7"
  }
 },
 "nbformat": 4,
 "nbformat_minor": 5
}
